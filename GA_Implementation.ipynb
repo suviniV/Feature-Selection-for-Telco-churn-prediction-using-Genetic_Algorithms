{
 "cells": [
  {
   "cell_type": "markdown",
   "metadata": {},
   "source": [
    "### Importing Libraries"
   ]
  },
  {
   "cell_type": "code",
   "execution_count": 1,
   "metadata": {},
   "outputs": [],
   "source": [
    "import pandas as pd\n",
    "import numpy as np\n",
    "from math import sqrt\n",
    "import random\n"
   ]
  },
  {
   "cell_type": "markdown",
   "metadata": {},
   "source": [
    "### Loading Data"
   ]
  },
  {
   "cell_type": "code",
   "execution_count": 2,
   "metadata": {},
   "outputs": [],
   "source": [
    "aircraftData = pd.read_csv(\"aircraftDataset.csv\")\n",
    "airportData = pd.read_csv(\"airportDataset.csv\")\n",
    "weatherData = pd.read_csv(\"weatherDataset.csv\")"
   ]
  },
  {
   "cell_type": "code",
   "execution_count": 3,
   "metadata": {},
   "outputs": [],
   "source": [
    "# Converting to dataframe\n",
    "aircraftData = pd.DataFrame(aircraftData)\n",
    "airportData = pd.DataFrame(airportData)\n",
    "weatherData = pd.DataFrame(weatherData)\n"
   ]
  },
  {
   "cell_type": "markdown",
   "metadata": {},
   "source": [
    "### Initial EDA"
   ]
  },
  {
   "cell_type": "markdown",
   "metadata": {},
   "source": [
    "#### Aricraft Data "
   ]
  },
  {
   "cell_type": "code",
   "execution_count": 4,
   "metadata": {},
   "outputs": [
    {
     "data": {
      "text/plain": [
       "(700, 5)"
      ]
     },
     "execution_count": 4,
     "metadata": {},
     "output_type": "execute_result"
    }
   ],
   "source": [
    "aircraftData.shape"
   ]
  },
  {
   "cell_type": "code",
   "execution_count": 5,
   "metadata": {},
   "outputs": [
    {
     "data": {
      "text/html": [
       "<div>\n",
       "<style scoped>\n",
       "    .dataframe tbody tr th:only-of-type {\n",
       "        vertical-align: middle;\n",
       "    }\n",
       "\n",
       "    .dataframe tbody tr th {\n",
       "        vertical-align: top;\n",
       "    }\n",
       "\n",
       "    .dataframe thead th {\n",
       "        text-align: right;\n",
       "    }\n",
       "</style>\n",
       "<table border=\"1\" class=\"dataframe\">\n",
       "  <thead>\n",
       "    <tr style=\"text-align: right;\">\n",
       "      <th></th>\n",
       "      <th>Aircraft Type</th>\n",
       "      <th>Max Range</th>\n",
       "      <th>Cruise Speed</th>\n",
       "      <th>Fuel Consumption at Cruise</th>\n",
       "      <th>ICAO CODES</th>\n",
       "    </tr>\n",
       "  </thead>\n",
       "  <tbody>\n",
       "    <tr>\n",
       "      <th>0</th>\n",
       "      <td>Aircraft 1</td>\n",
       "      <td>3524.704974</td>\n",
       "      <td>440.407155</td>\n",
       "      <td>1084.211636</td>\n",
       "      <td>MULT</td>\n",
       "    </tr>\n",
       "    <tr>\n",
       "      <th>1</th>\n",
       "      <td>Aircraft 2</td>\n",
       "      <td>7463.252518</td>\n",
       "      <td>474.475130</td>\n",
       "      <td>494.213927</td>\n",
       "      <td>KARA</td>\n",
       "    </tr>\n",
       "    <tr>\n",
       "      <th>2</th>\n",
       "      <td>Aircraft 3</td>\n",
       "      <td>7810.298939</td>\n",
       "      <td>463.793756</td>\n",
       "      <td>402.758677</td>\n",
       "      <td>PESH</td>\n",
       "    </tr>\n",
       "    <tr>\n",
       "      <th>3</th>\n",
       "      <td>Aircraft 4</td>\n",
       "      <td>1442.066536</td>\n",
       "      <td>188.000000</td>\n",
       "      <td>788.008426</td>\n",
       "      <td>SIAL</td>\n",
       "    </tr>\n",
       "    <tr>\n",
       "      <th>4</th>\n",
       "      <td>Aircraft 5</td>\n",
       "      <td>6261.240012</td>\n",
       "      <td>411.286311</td>\n",
       "      <td>993.237674</td>\n",
       "      <td>SUKK</td>\n",
       "    </tr>\n",
       "  </tbody>\n",
       "</table>\n",
       "</div>"
      ],
      "text/plain": [
       "  Aircraft Type    Max Range  Cruise Speed  Fuel Consumption at Cruise  \\\n",
       "0    Aircraft 1  3524.704974    440.407155                 1084.211636   \n",
       "1    Aircraft 2  7463.252518    474.475130                  494.213927   \n",
       "2    Aircraft 3  7810.298939    463.793756                  402.758677   \n",
       "3    Aircraft 4  1442.066536    188.000000                  788.008426   \n",
       "4    Aircraft 5  6261.240012    411.286311                  993.237674   \n",
       "\n",
       "  ICAO CODES  \n",
       "0       MULT  \n",
       "1       KARA  \n",
       "2       PESH  \n",
       "3       SIAL  \n",
       "4       SUKK  "
      ]
     },
     "execution_count": 5,
     "metadata": {},
     "output_type": "execute_result"
    }
   ],
   "source": [
    "aircraftData.head()"
   ]
  },
  {
   "cell_type": "code",
   "execution_count": 6,
   "metadata": {},
   "outputs": [
    {
     "data": {
      "text/html": [
       "<div>\n",
       "<style scoped>\n",
       "    .dataframe tbody tr th:only-of-type {\n",
       "        vertical-align: middle;\n",
       "    }\n",
       "\n",
       "    .dataframe tbody tr th {\n",
       "        vertical-align: top;\n",
       "    }\n",
       "\n",
       "    .dataframe thead th {\n",
       "        text-align: right;\n",
       "    }\n",
       "</style>\n",
       "<table border=\"1\" class=\"dataframe\">\n",
       "  <thead>\n",
       "    <tr style=\"text-align: right;\">\n",
       "      <th></th>\n",
       "      <th>Max Range</th>\n",
       "      <th>Cruise Speed</th>\n",
       "      <th>Fuel Consumption at Cruise</th>\n",
       "    </tr>\n",
       "  </thead>\n",
       "  <tbody>\n",
       "    <tr>\n",
       "      <th>count</th>\n",
       "      <td>700.000000</td>\n",
       "      <td>700.000000</td>\n",
       "      <td>700.000000</td>\n",
       "    </tr>\n",
       "    <tr>\n",
       "      <th>mean</th>\n",
       "      <td>4338.279857</td>\n",
       "      <td>398.557299</td>\n",
       "      <td>819.552563</td>\n",
       "    </tr>\n",
       "    <tr>\n",
       "      <th>std</th>\n",
       "      <td>2158.027507</td>\n",
       "      <td>128.588628</td>\n",
       "      <td>382.659655</td>\n",
       "    </tr>\n",
       "    <tr>\n",
       "      <th>min</th>\n",
       "      <td>503.043901</td>\n",
       "      <td>188.000000</td>\n",
       "      <td>100.746911</td>\n",
       "    </tr>\n",
       "    <tr>\n",
       "      <th>25%</th>\n",
       "      <td>2534.569663</td>\n",
       "      <td>325.208154</td>\n",
       "      <td>507.674646</td>\n",
       "    </tr>\n",
       "    <tr>\n",
       "      <th>50%</th>\n",
       "      <td>4362.850911</td>\n",
       "      <td>411.506353</td>\n",
       "      <td>871.167450</td>\n",
       "    </tr>\n",
       "    <tr>\n",
       "      <th>75%</th>\n",
       "      <td>6252.237543</td>\n",
       "      <td>500.277894</td>\n",
       "      <td>1123.902118</td>\n",
       "    </tr>\n",
       "    <tr>\n",
       "      <th>max</th>\n",
       "      <td>7999.633979</td>\n",
       "      <td>599.906437</td>\n",
       "      <td>1498.303445</td>\n",
       "    </tr>\n",
       "  </tbody>\n",
       "</table>\n",
       "</div>"
      ],
      "text/plain": [
       "         Max Range  Cruise Speed  Fuel Consumption at Cruise\n",
       "count   700.000000    700.000000                  700.000000\n",
       "mean   4338.279857    398.557299                  819.552563\n",
       "std    2158.027507    128.588628                  382.659655\n",
       "min     503.043901    188.000000                  100.746911\n",
       "25%    2534.569663    325.208154                  507.674646\n",
       "50%    4362.850911    411.506353                  871.167450\n",
       "75%    6252.237543    500.277894                 1123.902118\n",
       "max    7999.633979    599.906437                 1498.303445"
      ]
     },
     "execution_count": 6,
     "metadata": {},
     "output_type": "execute_result"
    }
   ],
   "source": [
    "aircraftData.describe()"
   ]
  },
  {
   "cell_type": "code",
   "execution_count": 9,
   "metadata": {},
   "outputs": [
    {
     "data": {
      "text/plain": [
       "Aircraft Type                 0\n",
       "Max Range                     0\n",
       "Cruise Speed                  0\n",
       "Fuel Consumption at Cruise    0\n",
       "ICAO CODES                    0\n",
       "dtype: int64"
      ]
     },
     "execution_count": 9,
     "metadata": {},
     "output_type": "execute_result"
    }
   ],
   "source": [
    "aircraftData.isnull().sum()"
   ]
  },
  {
   "cell_type": "code",
   "execution_count": 16,
   "metadata": {},
   "outputs": [
    {
     "data": {
      "text/plain": [
       "ICAO CODES\n",
       "QUET    71\n",
       "GUJR    70\n",
       "RAWA    63\n",
       "GWAD    62\n",
       "KARA    59\n",
       "SIAL    59\n",
       "FAIS    57\n",
       "ISLA    56\n",
       "LAHO    56\n",
       "PESH    50\n",
       "MULT    49\n",
       "SUKK    48\n",
       "Name: count, dtype: int64"
      ]
     },
     "execution_count": 16,
     "metadata": {},
     "output_type": "execute_result"
    }
   ],
   "source": [
    "aircraftData['ICAO CODES'].value_counts()\n"
   ]
  },
  {
   "cell_type": "markdown",
   "metadata": {},
   "source": [
    "#### Aiport Data"
   ]
  },
  {
   "cell_type": "code",
   "execution_count": 11,
   "metadata": {},
   "outputs": [
    {
     "data": {
      "text/plain": [
       "(132, 4)"
      ]
     },
     "execution_count": 11,
     "metadata": {},
     "output_type": "execute_result"
    }
   ],
   "source": [
    "airportData.shape"
   ]
  },
  {
   "cell_type": "code",
   "execution_count": 12,
   "metadata": {},
   "outputs": [
    {
     "data": {
      "text/html": [
       "<div>\n",
       "<style scoped>\n",
       "    .dataframe tbody tr th:only-of-type {\n",
       "        vertical-align: middle;\n",
       "    }\n",
       "\n",
       "    .dataframe tbody tr th {\n",
       "        vertical-align: top;\n",
       "    }\n",
       "\n",
       "    .dataframe thead th {\n",
       "        text-align: right;\n",
       "    }\n",
       "</style>\n",
       "<table border=\"1\" class=\"dataframe\">\n",
       "  <thead>\n",
       "    <tr style=\"text-align: right;\">\n",
       "      <th></th>\n",
       "      <th>ICAO Code</th>\n",
       "      <th>Latitude</th>\n",
       "      <th>Longitude</th>\n",
       "      <th>City</th>\n",
       "    </tr>\n",
       "  </thead>\n",
       "  <tbody>\n",
       "    <tr>\n",
       "      <th>0</th>\n",
       "      <td>ISLA</td>\n",
       "      <td>2580</td>\n",
       "      <td>2886</td>\n",
       "      <td>Peshawar</td>\n",
       "    </tr>\n",
       "    <tr>\n",
       "      <th>1</th>\n",
       "      <td>ISLA</td>\n",
       "      <td>3785</td>\n",
       "      <td>2691</td>\n",
       "      <td>Karachi</td>\n",
       "    </tr>\n",
       "    <tr>\n",
       "      <th>2</th>\n",
       "      <td>ISLA</td>\n",
       "      <td>2225</td>\n",
       "      <td>264</td>\n",
       "      <td>Lahore</td>\n",
       "    </tr>\n",
       "    <tr>\n",
       "      <th>3</th>\n",
       "      <td>ISLA</td>\n",
       "      <td>106</td>\n",
       "      <td>2616</td>\n",
       "      <td>Quetta</td>\n",
       "    </tr>\n",
       "    <tr>\n",
       "      <th>4</th>\n",
       "      <td>ISLA</td>\n",
       "      <td>1799</td>\n",
       "      <td>2184</td>\n",
       "      <td>Multan</td>\n",
       "    </tr>\n",
       "  </tbody>\n",
       "</table>\n",
       "</div>"
      ],
      "text/plain": [
       "  ICAO Code  Latitude  Longitude      City\n",
       "0      ISLA      2580       2886  Peshawar\n",
       "1      ISLA      3785       2691   Karachi\n",
       "2      ISLA      2225        264    Lahore\n",
       "3      ISLA       106       2616    Quetta\n",
       "4      ISLA      1799       2184    Multan"
      ]
     },
     "execution_count": 12,
     "metadata": {},
     "output_type": "execute_result"
    }
   ],
   "source": [
    "airportData.head()"
   ]
  },
  {
   "cell_type": "code",
   "execution_count": 13,
   "metadata": {},
   "outputs": [
    {
     "data": {
      "text/plain": [
       "ICAO Code    0\n",
       "Latitude     0\n",
       "Longitude    0\n",
       "City         0\n",
       "dtype: int64"
      ]
     },
     "execution_count": 13,
     "metadata": {},
     "output_type": "execute_result"
    }
   ],
   "source": [
    "airportData.isnull().sum()"
   ]
  },
  {
   "cell_type": "code",
   "execution_count": 18,
   "metadata": {},
   "outputs": [
    {
     "data": {
      "text/plain": [
       "ICAO Code\n",
       "ISLA    11\n",
       "PESH    11\n",
       "KARA    11\n",
       "LAHO    11\n",
       "QUET    11\n",
       "MULT    11\n",
       "FAIS    11\n",
       "RAWA    11\n",
       "SIAL    11\n",
       "GUJR    11\n",
       "SUKK    11\n",
       "GWAD    11\n",
       "Name: count, dtype: int64"
      ]
     },
     "execution_count": 18,
     "metadata": {},
     "output_type": "execute_result"
    }
   ],
   "source": [
    "airportData['ICAO Code'].value_counts()\n"
   ]
  },
  {
   "cell_type": "code",
   "execution_count": 19,
   "metadata": {},
   "outputs": [
    {
     "data": {
      "text/plain": [
       "City\n",
       "Peshawar      11\n",
       "Karachi       11\n",
       "Lahore        11\n",
       "Quetta        11\n",
       "Multan        11\n",
       "Faisalabad    11\n",
       "Rawalpindi    11\n",
       "Sialkot       11\n",
       "Gujranwala    11\n",
       "Sukkur        11\n",
       "Gwadar        11\n",
       "Islamabad     11\n",
       "Name: count, dtype: int64"
      ]
     },
     "execution_count": 19,
     "metadata": {},
     "output_type": "execute_result"
    }
   ],
   "source": [
    "airportData['City'].value_counts()\n"
   ]
  },
  {
   "cell_type": "markdown",
   "metadata": {},
   "source": [
    "#### weatherData"
   ]
  },
  {
   "cell_type": "code",
   "execution_count": 14,
   "metadata": {},
   "outputs": [
    {
     "data": {
      "text/plain": [
       "(60000, 4)"
      ]
     },
     "execution_count": 14,
     "metadata": {},
     "output_type": "execute_result"
    }
   ],
   "source": [
    "weatherData.shape"
   ]
  },
  {
   "cell_type": "code",
   "execution_count": 15,
   "metadata": {},
   "outputs": [
    {
     "data": {
      "text/html": [
       "<div>\n",
       "<style scoped>\n",
       "    .dataframe tbody tr th:only-of-type {\n",
       "        vertical-align: middle;\n",
       "    }\n",
       "\n",
       "    .dataframe tbody tr th {\n",
       "        vertical-align: top;\n",
       "    }\n",
       "\n",
       "    .dataframe thead th {\n",
       "        text-align: right;\n",
       "    }\n",
       "</style>\n",
       "<table border=\"1\" class=\"dataframe\">\n",
       "  <thead>\n",
       "    <tr style=\"text-align: right;\">\n",
       "      <th></th>\n",
       "      <th>Date</th>\n",
       "      <th>Wind Speed</th>\n",
       "      <th>Wind Direction</th>\n",
       "      <th>City</th>\n",
       "    </tr>\n",
       "  </thead>\n",
       "  <tbody>\n",
       "    <tr>\n",
       "      <th>0</th>\n",
       "      <td>2007-01-01</td>\n",
       "      <td>24.316468</td>\n",
       "      <td>255.233176</td>\n",
       "      <td>Multan</td>\n",
       "    </tr>\n",
       "    <tr>\n",
       "      <th>1</th>\n",
       "      <td>2007-01-01</td>\n",
       "      <td>28.748364</td>\n",
       "      <td>104.971560</td>\n",
       "      <td>Islamabad</td>\n",
       "    </tr>\n",
       "    <tr>\n",
       "      <th>2</th>\n",
       "      <td>2007-01-01</td>\n",
       "      <td>27.188154</td>\n",
       "      <td>170.915093</td>\n",
       "      <td>Gujranwala</td>\n",
       "    </tr>\n",
       "    <tr>\n",
       "      <th>3</th>\n",
       "      <td>2007-01-01</td>\n",
       "      <td>8.418233</td>\n",
       "      <td>268.304630</td>\n",
       "      <td>Karachi</td>\n",
       "    </tr>\n",
       "    <tr>\n",
       "      <th>4</th>\n",
       "      <td>2007-01-01</td>\n",
       "      <td>1.945127</td>\n",
       "      <td>648.329295</td>\n",
       "      <td>Sialkot</td>\n",
       "    </tr>\n",
       "  </tbody>\n",
       "</table>\n",
       "</div>"
      ],
      "text/plain": [
       "         Date  Wind Speed  Wind Direction        City\n",
       "0  2007-01-01   24.316468      255.233176      Multan\n",
       "1  2007-01-01   28.748364      104.971560   Islamabad\n",
       "2  2007-01-01   27.188154      170.915093  Gujranwala\n",
       "3  2007-01-01    8.418233      268.304630     Karachi\n",
       "4  2007-01-01    1.945127      648.329295     Sialkot"
      ]
     },
     "execution_count": 15,
     "metadata": {},
     "output_type": "execute_result"
    }
   ],
   "source": [
    "weatherData.head()"
   ]
  },
  {
   "cell_type": "code",
   "execution_count": 20,
   "metadata": {},
   "outputs": [
    {
     "data": {
      "text/plain": [
       "City\n",
       "Multan        5000\n",
       "Islamabad     5000\n",
       "Gujranwala    5000\n",
       "Karachi       5000\n",
       "Sialkot       5000\n",
       "Lahore        5000\n",
       "Rawalpindi    5000\n",
       "Quetta        5000\n",
       "Gwadar        5000\n",
       "Peshawar      5000\n",
       "Sukkur        5000\n",
       "Faisalabad    5000\n",
       "Name: count, dtype: int64"
      ]
     },
     "execution_count": 20,
     "metadata": {},
     "output_type": "execute_result"
    }
   ],
   "source": [
    "weatherData['City'].value_counts()"
   ]
  },
  {
   "cell_type": "code",
   "execution_count": null,
   "metadata": {},
   "outputs": [],
   "source": []
  }
 ],
 "metadata": {
  "kernelspec": {
   "display_name": "Python 3.9.13 ('base')",
   "language": "python",
   "name": "python3"
  },
  "language_info": {
   "codemirror_mode": {
    "name": "ipython",
    "version": 3
   },
   "file_extension": ".py",
   "mimetype": "text/x-python",
   "name": "python",
   "nbconvert_exporter": "python",
   "pygments_lexer": "ipython3",
   "version": "3.9.13"
  },
  "orig_nbformat": 4,
  "vscode": {
   "interpreter": {
    "hash": "ad2bdc8ecc057115af97d19610ffacc2b4e99fae6737bb82f5d7fb13d2f2c186"
   }
  }
 },
 "nbformat": 4,
 "nbformat_minor": 2
}
